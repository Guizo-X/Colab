{
  "nbformat": 4,
  "nbformat_minor": 0,
  "metadata": {
    "colab": {
      "provenance": [],
      "authorship_tag": "ABX9TyPvUhcoT82tx99wku0Rdv/m",
      "include_colab_link": true
    },
    "kernelspec": {
      "name": "python3",
      "display_name": "Python 3"
    },
    "language_info": {
      "name": "python"
    }
  },
  "cells": [
    {
      "cell_type": "markdown",
      "metadata": {
        "id": "view-in-github",
        "colab_type": "text"
      },
      "source": [
        "<a href=\"https://colab.research.google.com/github/Guizo-X/Colab/blob/main/No%C3%A7%C3%B5es_OO.ipynb\" target=\"_parent\"><img src=\"https://colab.research.google.com/assets/colab-badge.svg\" alt=\"Open In Colab\"/></a>"
      ]
    },
    {
      "cell_type": "code",
      "execution_count": 9,
      "metadata": {
        "colab": {
          "base_uri": "https://localhost:8080/"
        },
        "id": "LGNTmQBA5Ae3",
        "outputId": "6ab69c11-6d68-47b4-ef49-616944603027"
      },
      "outputs": [
        {
          "output_type": "execute_result",
          "data": {
            "text/plain": [
              "10"
            ]
          },
          "metadata": {},
          "execution_count": 9
        }
      ],
      "source": [
        "#ETE Cícero Dias\n",
        "#prof. Cloves\n",
        "#python noções OO\n",
        "#Estudante: Guilherme\n",
        "\n",
        "class Carro:\n",
        "  def __init__(self):\n",
        "    self._nrodas = 4\n",
        "  def set_nrodas(self,n):\n",
        "    self._nrodas = n\n",
        "gol = Carro()\n",
        "gol._nrodas\n",
        "\n",
        "\n",
        "gol.set_nrodas(10)\n",
        "gol._nrodas"
      ]
    }
  ]
}