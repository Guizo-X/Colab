{
  "nbformat": 4,
  "nbformat_minor": 0,
  "metadata": {
    "colab": {
      "provenance": [],
      "authorship_tag": "ABX9TyPk6yKkx1+Er/hGFKeuqwEC",
      "include_colab_link": true
    },
    "kernelspec": {
      "name": "python3",
      "display_name": "Python 3"
    },
    "language_info": {
      "name": "python"
    }
  },
  "cells": [
    {
      "cell_type": "markdown",
      "metadata": {
        "id": "view-in-github",
        "colab_type": "text"
      },
      "source": [
        "<a href=\"https://colab.research.google.com/github/Guizo-X/Colab/blob/main/Untitled.ipynb\" target=\"_parent\"><img src=\"https://colab.research.google.com/assets/colab-badge.svg\" alt=\"Open In Colab\"/></a>"
      ]
    },
    {
      "cell_type": "code",
      "execution_count": null,
      "metadata": {
        "id": "2fAsifaY-Y_C"
      },
      "outputs": [],
      "source": [
        "class Jogar:\n",
        "    def __init__(self, nome='Final Fantasy'):\n",
        "        self.nome = nome\n",
        "\n",
        "\n",
        "    def nome_jogo(self):\n",
        "        return self.nome\n",
        "\n",
        "\n",
        "    def horas_jogadas(self, horas):\n",
        "        print(f'Estou jogando a {horas} horas')\n",
        "\n",
        "\n",
        "jogo1 = Jogar()\n",
        "print(jogo1.nome_jogo())\n",
        "jogo1.horas_jogadas(4)\n",
        "\n",
        "\n",
        "\n",
        "\n",
        "class mago:\n",
        "    def __init__(self, nome, ram, poder, sexo,raca):\n",
        "        self.nome = nome\n",
        "        self.ram = ram\n",
        "        self.poder = poder\n",
        "        self.sexo = sexo\n",
        "        self.raca = raca\n",
        "\n",
        "\n",
        "    def apresentar(self):\n",
        "        return f\" meu nome é {self.nome}, tenho {self.ram} anos, o meu poder é de {self.poder} , sou do sexo {self.sexo},e da raça {self.raca} \"\n",
        "\n",
        "\n",
        "mago1 = mago('Guizo', 38, 'fogo', 'Masculino', 'humana')\n",
        "\n",
        "\n",
        "\n",
        "\n",
        "print(mago1.nome)\n",
        "print(mago1.ram)\n",
        "print(mago1.apresentar())\n",
        "\n",
        "class Celular:\n",
        "    def __init__(self, nome, ram, android, armazenamento, cor):\n",
        "        self.nome = nome\n",
        "        self.ram = ram\n",
        "        self.android = android\n",
        "        self.armazenamento = armazenamento\n",
        "        self.cor = cor\n",
        "\n",
        "    def apresentar2(self):\n",
        "        return f\"Esse celular {self.nome} tem {self.ram} GB de RAM, e seu sistema operacional é o {self.android}, tem {self.armazenamento} GB de armazenamento, e é da cor {self.cor}\"\n",
        "\n",
        "class Cadastro:\n",
        "    def __init__(self):\n",
        "        self.celulares = []\n",
        "\n",
        "    def adicionar_celulares(self, celular):\n",
        "        self.celulares.append(celular)\n",
        "\n",
        "    def listar_celulares(self):\n",
        "        for celular in self.celulares:\n",
        "            print(celular.apresentar2())\n",
        "\n",
        "cadastro = Cadastro()\n",
        "celulares1 = Celular(\"Galaxy S23\", 12, 13.0, 512, \"preto\")\n",
        "cadastro.adicionar_celulares(celulares1)\n",
        "cadastro.listar_celulares()\n",
        "\n",
        "class Hotel:\n",
        "    def __init__(self, nome, estrelas, quartos_disponiveis, localizacao):\n",
        "        self.nome = nome\n",
        "        self.estrelas = estrelas\n",
        "        self.quartos_disponiveis = quartos_disponiveis\n",
        "        self.localizacao = localizacao\n",
        "\n",
        "    def check_disponibilidade(self):\n",
        "        return f\"No {self.nome}, há {self.quartos_disponiveis} quartos disponíveis para reserva.\"\n",
        "\n",
        "    def detalhes(self):\n",
        "        return f\"{self.nome} é um hotel de {self.estrelas} estrelas localizado em {self.localizacao}. Oferecemos hospedagem de qualidade.\"\n",
        "\n",
        "# Exemplo de uso:\n",
        "meu_hotel = Hotel(\"Hotel Excelência\", 4, 50, \"São Paulo\")\n",
        "disponibilidade = meu_hotel.check_disponibilidade()\n",
        "informacoes = meu_hotel.detalhes()\n",
        "print(disponibilidade)\n",
        "print(informacoes)\n"
      ]
    }
  ]
}