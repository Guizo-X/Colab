{
  "nbformat": 4,
  "nbformat_minor": 0,
  "metadata": {
    "colab": {
      "provenance": [],
      "authorship_tag": "ABX9TyNE1uQv1Y3WPGa05vko8Gv7",
      "include_colab_link": true
    },
    "kernelspec": {
      "name": "python3",
      "display_name": "Python 3"
    },
    "language_info": {
      "name": "python"
    }
  },
  "cells": [
    {
      "cell_type": "markdown",
      "metadata": {
        "id": "view-in-github",
        "colab_type": "text"
      },
      "source": [
        "<a href=\"https://colab.research.google.com/github/Guizo-X/Colab/blob/main/Atv_1_Python.ipynb\" target=\"_parent\"><img src=\"https://colab.research.google.com/assets/colab-badge.svg\" alt=\"Open In Colab\"/></a>"
      ]
    },
    {
      "cell_type": "markdown",
      "source": [
        "1. Faça um CÓDIGO que mostre a mensagem \"Olá ETE CÍCERO DIAS!\" na tela."
      ],
      "metadata": {
        "id": "0sSYSPIZ3JAN"
      }
    },
    {
      "cell_type": "code",
      "source": [
        "print('\"Olá ETE CÍCERO DIAS!\"')"
      ],
      "metadata": {
        "colab": {
          "base_uri": "https://localhost:8080/"
        },
        "id": "1k1bApiX3hSX",
        "outputId": "b9ea97d7-6252-4fcd-8b7f-491482a5d769"
      },
      "execution_count": null,
      "outputs": [
        {
          "output_type": "stream",
          "name": "stdout",
          "text": [
            "\"Olá ETE CÍCERO DIAS!\"\n"
          ]
        }
      ]
    },
    {
      "cell_type": "markdown",
      "source": [
        "2. Faça um CÓDIGO que peça um número e então mostre a mensagem O número informado foi [número]."
      ],
      "metadata": {
        "id": "s1I8Cp9G3OH5"
      }
    },
    {
      "cell_type": "code",
      "source": [
        "numero = int(input('escreva um numero: '))\n",
        "print(f'o numero informado foi {numero}')"
      ],
      "metadata": {
        "id": "0PEUMpz43yx8"
      },
      "execution_count": null,
      "outputs": []
    },
    {
      "cell_type": "markdown",
      "source": [
        "3. Faça um CÓDIGO que peça dois números e imprima a soma."
      ],
      "metadata": {
        "id": "xcJfA_z33Qo6"
      }
    },
    {
      "cell_type": "code",
      "source": [
        "numero1 = int(input('escreva a 1° numero: '))\n",
        "numero2 = int(input('escreva a 2° numero: '))\n",
        "\n",
        "soma = numero1 + numero2\n",
        "\n",
        "print(soma)"
      ],
      "metadata": {
        "colab": {
          "base_uri": "https://localhost:8080/"
        },
        "id": "BJbbl0r74HsD",
        "outputId": "758f3afd-3d53-47d5-c953-985afc122a57"
      },
      "execution_count": null,
      "outputs": [
        {
          "output_type": "stream",
          "name": "stdout",
          "text": [
            "escreva o 1° numero: 1\n",
            "escreva o 2° numero: 2\n",
            "3\n"
          ]
        }
      ]
    },
    {
      "cell_type": "markdown",
      "source": [
        "4. Faça um CÓDIGO que peça as 4 notas bimestrais e mostre a média final."
      ],
      "metadata": {
        "id": "fUL-o7UY3Sp5"
      }
    },
    {
      "cell_type": "code",
      "source": [
        "media1 = int(input('escreva a 1° nota: '))\n",
        "media2 = int(input('escreva a 2° nota: '))\n",
        "media3 = int(input('escreva a 3° nota: '))\n",
        "media4 = int(input('escreva a 4° nota: '))\n",
        "\n",
        "mediaFinal = (media1+media2+media3+media4)/4\n",
        "\n",
        "print(mediaFinal)\n"
      ],
      "metadata": {
        "colab": {
          "base_uri": "https://localhost:8080/"
        },
        "id": "_DvyX4kc4hwM",
        "outputId": "335558ca-247c-4224-f3d6-08e61f9775c3"
      },
      "execution_count": null,
      "outputs": [
        {
          "output_type": "stream",
          "name": "stdout",
          "text": [
            "escreva o 1° nota: 7\n",
            "escreva o 2° nota: 8\n",
            "escreva o 3° nota: 9\n",
            "escreva o 4° nota: 10\n",
            "8.5\n"
          ]
        }
      ]
    },
    {
      "cell_type": "markdown",
      "source": [
        "5. Faça um CÓDIGO que converta metros para centímetros."
      ],
      "metadata": {
        "id": "cCsyBf1X3VVJ"
      }
    },
    {
      "cell_type": "code",
      "source": [
        "numero = int(input('escreva o numero: '))\n",
        "numeroC = numero * 100\n",
        "print(f'o {numero} em metros foi convertido para {numeroC} centímetros')"
      ],
      "metadata": {
        "colab": {
          "base_uri": "https://localhost:8080/"
        },
        "id": "v79dDVfG5E63",
        "outputId": "59c0b27e-a315-4665-fb96-9ad9564878ec"
      },
      "execution_count": null,
      "outputs": [
        {
          "output_type": "stream",
          "name": "stdout",
          "text": [
            "escreva o numero: 10\n",
            "o 10 em metros foi convertido para 1000\n"
          ]
        }
      ]
    },
    {
      "cell_type": "markdown",
      "source": [
        "6. Faça um CÓDIGO que peça o raio de um círculo, calcule e mostre sua área."
      ],
      "metadata": {
        "id": "7gQ6iK9r3XfB"
      }
    },
    {
      "cell_type": "code",
      "source": [
        "raio = int (input('escreva o numero do raio: '))\n",
        "area = 3.14 * raio\n",
        "print(f'a area do circulo é {area}')"
      ],
      "metadata": {
        "colab": {
          "base_uri": "https://localhost:8080/"
        },
        "id": "9hVYWQFtvpJt",
        "outputId": "62235a45-c2e1-4825-83f0-f96ba8662805"
      },
      "execution_count": null,
      "outputs": [
        {
          "output_type": "stream",
          "name": "stdout",
          "text": [
            "escreva o numero do raio: 3\n",
            "a area do circulo é 9.42\n"
          ]
        }
      ]
    },
    {
      "cell_type": "markdown",
      "source": [
        "7. Faça um CÓDIGO que calcule a área de um quadrado, em seguida mostre o dobro desta área para o usuário."
      ],
      "metadata": {
        "id": "mutjvJUe3ZGy"
      }
    },
    {
      "cell_type": "code",
      "source": [
        "lado = int(input('escreva o numero do lado: '))\n",
        "areaQ = lado * lado\n",
        "areaU = areaQ * 2\n",
        "print(f'o dobro da area é {areaU}')"
      ],
      "metadata": {
        "colab": {
          "base_uri": "https://localhost:8080/"
        },
        "id": "UgeCXEN7xC4v",
        "outputId": "019416e4-c369-4a0f-84c0-4fe6b0f3a767"
      },
      "execution_count": null,
      "outputs": [
        {
          "output_type": "stream",
          "name": "stdout",
          "text": [
            "escreva o numero do lado: 2\n",
            "o dobro da area é 8\n"
          ]
        }
      ]
    },
    {
      "cell_type": "markdown",
      "source": [
        "8. Faça um CÓDIGO que pergunte quanto você ganha por hora e o número de horas trabalhadas no mês. Calcule e mostre o total do seu salário no referido mês."
      ],
      "metadata": {
        "id": "-42loBwL3aj6"
      }
    },
    {
      "cell_type": "code",
      "source": [
        "ganhoPH = int(input('quanto você ganha? '))\n",
        "horasT = int(input('quantas horas você trabalha? '))\n",
        "salario = ganhoPH / horasT\n",
        "print(f'você ganha {salario} por hora')"
      ],
      "metadata": {
        "colab": {
          "base_uri": "https://localhost:8080/"
        },
        "id": "a5PHASqOx1lh",
        "outputId": "a0edc2f4-f372-4d8a-abcb-0d4f10858a5b"
      },
      "execution_count": null,
      "outputs": [
        {
          "output_type": "stream",
          "name": "stdout",
          "text": [
            "quanto você ganha? 20\n",
            "quantas horas você trabalha? 2\n",
            "você ganha 10.0 por hora\n"
          ]
        }
      ]
    },
    {
      "cell_type": "markdown",
      "source": [
        "9. Faça um CÓDIGO que peça um valor e mostre na tela se o valor é positivo ou negativo."
      ],
      "metadata": {
        "id": "SFAi1zOj3cbJ"
      }
    },
    {
      "cell_type": "code",
      "source": [
        "valor = int(input('digite um valor: '))\n",
        "if valor > 0:\n",
        "  print('o valor e positivo')\n",
        "elif valor == 0:\n",
        "  print('o valor e neutro')\n",
        "else:\n",
        "  print('o valor e negativo')"
      ],
      "metadata": {
        "colab": {
          "base_uri": "https://localhost:8080/"
        },
        "id": "1lPSE8gFzF8y",
        "outputId": "87fb10ea-1480-4a96-cc08-0ece046bb0b8"
      },
      "execution_count": null,
      "outputs": [
        {
          "output_type": "stream",
          "name": "stdout",
          "text": [
            "digite um valor: -5\n",
            "o valor e negativo\n"
          ]
        }
      ]
    },
    {
      "cell_type": "markdown",
      "source": [
        "10. Faça um CÓDIGO que verifique se uma letra digitada é \"F\" ou \"M\". Conforme a letra escrever: F - Feminino, M - Masculino, Sexo Inválido."
      ],
      "metadata": {
        "id": "6AwL9nK_3evf"
      }
    },
    {
      "cell_type": "code",
      "source": [
        "letraD = str(input('digite o seu sexo \"F\" para feminino e \"M\" para masculino: '))\n",
        "if letraD == \"F\" or letraD == \"f\":\n",
        "  print('feminino')\n",
        "elif letraD == \"M\" or letraD == \"m\":\n",
        "  print('masculino')\n",
        "else:\n",
        "  print('sexo inválido')"
      ],
      "metadata": {
        "id": "x80Vi5WA3fvv",
        "colab": {
          "base_uri": "https://localhost:8080/"
        },
        "outputId": "df544baf-4452-4d51-a4a2-5bfc0f5eb9e1"
      },
      "execution_count": null,
      "outputs": [
        {
          "output_type": "stream",
          "name": "stdout",
          "text": [
            "digite o seu sexo \"F\" para feminino e \"M\" para masculino: a\n",
            "sexo inválido\n"
          ]
        }
      ]
    }
  ]
}