{
  "nbformat": 4,
  "nbformat_minor": 0,
  "metadata": {
    "colab": {
      "provenance": [],
      "authorship_tag": "ABX9TyNICd+68FeLFoTKgoyXvTS0",
      "include_colab_link": true
    },
    "kernelspec": {
      "name": "python3",
      "display_name": "Python 3"
    },
    "language_info": {
      "name": "python"
    }
  },
  "cells": [
    {
      "cell_type": "markdown",
      "metadata": {
        "id": "view-in-github",
        "colab_type": "text"
      },
      "source": [
        "<a href=\"https://colab.research.google.com/github/Guizo-X/Colab/blob/main/atv2%20pnt.ipynb\" target=\"_parent\"><img src=\"https://colab.research.google.com/assets/colab-badge.svg\" alt=\"Open In Colab\"/></a>"
      ]
    },
    {
      "cell_type": "code",
      "execution_count": null,
      "metadata": {
        "id": "2fAsifaY-Y_C"
      },
      "outputs": [],
      "source": [
        "# ATIVIDADE 2 DE PNT\n",
        "# ALUNOS: ALEHANDRO HENRIQUE,Guilherme Magalhães, TIAGO FÉLIX E LUIZ NETO\n",
        "# -----------------------------------------------------------\n",
        "# [PNT] AT2 - DESENVOLVA OBJETOS EM PYTHON\n",
        "# -----------------------------------------------------------\n",
        "# ===================== QUESTÃO 1: ==========================\n",
        "# Desenvolva até 5 objetos em Python para seu Projeto de PI1.\n",
        "# Exemplo: Pessoa, Cadastro, Previsão, etc...\n",
        "# Vale 3 pontos na AV1/N1.\n",
        "\n",
        "\n",
        "class Idoso:\n",
        "    def init(self, nome_completo, idade , genero ):\n",
        "        self.nome_completo = nome_completo\n",
        "        self.idade = idade\n",
        "        self.genero = genero\n",
        "\n",
        "gerivaldo = Idoso('Gerivaldo Barbosa BTS ','173','Masculino')\n",
        "print(gerivaldo.nome_completo,gerivaldo.idade,gerivaldo.genero)\n",
        "\n",
        "#----------------------------------------------------------------------------------------------------------------\n",
        "\n",
        "class Configurações:\n",
        "    def init(self, tamanho_da_fonte, alterar_senha_da_conta, tipo_de_assinatura, tema_do_app):\n",
        "        self.tamanho_da_fonte = tamanho_da_fonte\n",
        "        self.login = login\n",
        "        self.tipo_de_assinatura = tipo_de_assinatura\n",
        "        self.tema_do_app = tema_do_app\n",
        "\n",
        "def apresentar(self):\n",
        "  print (f\"tamanho_da_fonte: {self.tamanho_da_fonte} , login_da_conta: {self.login_da_conta} , tipo_de_assinatura: {self.tipo_de_assinatura} , tema_do_app: {self.tema_do_app}\")\n",
        "\n",
        "#-----------------------------------------------------------------------------------------------------------------\n",
        "\n",
        "class Tutorial:\n",
        "    def init(self, voltar, avancar, ignorar):\n",
        "        self.voltar = voltar\n",
        "        self.avancar = avancar\n",
        "        self.ignorar = ignorar\n",
        "\n",
        "def apresentar(self):\n",
        "  print (f\"nome: {self.nome} , idade: {self.idade} , senha: {self.senha} genero: {self.email}\")\n",
        "\n",
        "#-----------------------------------------------------------------------------------------------------------------\n",
        "\n",
        "class Login:\n",
        "    def init(self, email, senha):\n",
        "        self.email = email\n",
        "        self.senha = senha\n",
        "\n",
        "def apresentar(self):\n",
        "  print (f\"nome: {self.nome} , idade: {self.idade} , senha: {self.senha} genero: {self.email}\")\n",
        "\n",
        "#-----------------------------------------------------------------------------------------------------------------\n",
        "\n",
        "class Suporte:\n",
        "    def init(self, comentarios, enviar, remover_comentario):\n",
        "        self.comentarios = comentarios\n",
        "        self.enviar = enviar\n",
        "        self.remover_comentario = remover_comentario\n",
        "\n",
        "def apresentar(self):\n",
        "  print (f\"nome: {self.nome} , idade: {self.idade} , senha: {self.senha} genero: {self.email}\")"
      ]
    }
  ]
}